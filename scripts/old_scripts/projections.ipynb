{
 "metadata": {
  "language_info": {
   "codemirror_mode": {
    "name": "ipython",
    "version": 3
   },
   "file_extension": ".py",
   "mimetype": "text/x-python",
   "name": "python",
   "nbconvert_exporter": "python",
   "pygments_lexer": "ipython3",
   "version": "3.7.0-final"
  },
  "orig_nbformat": 2,
  "kernelspec": {
   "name": "python37064bitpy3virtualenv68f1b03ca46947129374a4882ebdbb52",
   "display_name": "Python 3.7.0 64-bit ('py3': virtualenv)",
   "language": "python"
  }
 },
 "nbformat": 4,
 "nbformat_minor": 2,
 "cells": [
  {
   "cell_type": "code",
   "execution_count": 3,
   "metadata": {},
   "outputs": [],
   "source": [
    "import nibabel as nib\n",
    "import numpy as np\n",
    "import load_confounds\n",
    "import pandas as pd\n",
    "import seaborn as sns\n",
    "import matplotlib.pyplot as plt\n",
    "from nilearn import signal"
   ]
  },
  {
   "cell_type": "code",
   "execution_count": 4,
   "metadata": {},
   "outputs": [],
   "source": [
    "atlas = nib.load('/scratch/dimuthu1/PPMI_project2/PPMI_gradients/cfg/91282_Greyordinates.dscalar.nii').get_fdata()\n",
    "#cortex = clean_ts[:,(atlas[0]==1)] #Selecting just the cortex"
   ]
  },
  {
   "cell_type": "code",
   "execution_count": 5,
   "metadata": {},
   "outputs": [
    {
     "output_type": "stream",
     "name": "stdout",
     "text": [
      "[ 1.  8. 10. 11. 12. 13. 16. 17. 18. 26. 28. 47. 49. 50. 51. 52. 53. 54.\n 58. 60.]\n"
     ]
    }
   ],
   "source": [
    "print(np.unique(atlas[0]))"
   ]
  },
  {
   "cell_type": "code",
   "execution_count": 6,
   "metadata": {},
   "outputs": [
    {
     "output_type": "execute_result",
     "data": {
      "text/plain": [
       "10.0"
      ]
     },
     "metadata": {},
     "execution_count": 6
    }
   ],
   "source": [
    "(atlas[0])[90000]"
   ]
  },
  {
   "cell_type": "code",
   "execution_count": 7,
   "metadata": {},
   "outputs": [],
   "source": [
    "#(atlas[0])[0]= 5"
   ]
  },
  {
   "cell_type": "code",
   "execution_count": 8,
   "metadata": {},
   "outputs": [
    {
     "output_type": "execute_result",
     "data": {
      "text/plain": [
       "1.0"
      ]
     },
     "metadata": {},
     "execution_count": 8
    }
   ],
   "source": [
    "(atlas[0])[0]"
   ]
  },
  {
   "cell_type": "code",
   "execution_count": 9,
   "metadata": {},
   "outputs": [],
   "source": [
    "#Cifti2Image\n",
    "\n",
    "img = nib.load('/scratch/dimuthu1/PPMI_project2/PPMI_gradients/cfg/91282_Greyordinates.dscalar.nii')\n",
    "new_img = nib.Cifti2Image(atlas, img.header)\n",
    "\n",
    "nib.save(new_img, 'new_image.nii')"
   ]
  },
  {
   "cell_type": "code",
   "execution_count": 10,
   "metadata": {},
   "outputs": [
    {
     "output_type": "stream",
     "name": "stdout",
     "text": [
      "1.0\n"
     ]
    }
   ],
   "source": [
    "new_atlas = nib.load('new_image.nii').get_fdata()\n",
    "print(new_atlas[0][0])\n"
   ]
  },
  {
   "cell_type": "code",
   "execution_count": 11,
   "metadata": {},
   "outputs": [
    {
     "output_type": "stream",
     "name": "stdout",
     "text": [
      "3828\n"
     ]
    }
   ],
   "source": [
    "    true_vals = atlas[0]\n",
    "    put_L = true_vals[(true_vals==12)]\n",
    "    put_R = true_vals[(true_vals==51)]\n",
    "    cau_L = true_vals[(true_vals==11)]\n",
    "    cau_R = true_vals[(true_vals==50)]\n",
    "    acc_L = true_vals[(true_vals==26)]\n",
    "    acc_R = true_vals[(true_vals==58)]\n",
    "\n",
    "    \n",
    "    subctx_vals = np.concatenate((put_L, cau_L, acc_L, put_R, cau_R, acc_R),axis=0)\n",
    "    print(np.size(subctx_vals))"
   ]
  },
  {
   "cell_type": "code",
   "execution_count": 12,
   "metadata": {},
   "outputs": [
    {
     "output_type": "stream",
     "name": "stdout",
     "text": [
      "(array([2, 4, 5]),)\n"
     ]
    }
   ],
   "source": [
    "a = np.asarray([1,5,2,4,2,2,7,9])\n",
    "b=[2,2,7,5]\n",
    "res = np.where(a==2)\n",
    "print(res)"
   ]
  },
  {
   "cell_type": "code",
   "execution_count": 13,
   "metadata": {},
   "outputs": [
    {
     "output_type": "stream",
     "name": "stdout",
     "text": [
      "[86676 86677 86678 ... 59684 59685 59686]\n"
     ]
    }
   ],
   "source": [
    "true_vals = atlas[0]\n",
    "put_L = np.where(true_vals==12)\n",
    "put_R = np.where(true_vals==51)\n",
    "cau_L = np.where(true_vals==11)\n",
    "cau_R = np.where(true_vals==50)\n",
    "acc_L = np.where(true_vals==26)\n",
    "acc_R = np.where(true_vals==58)\n",
    "\n",
    "\n",
    "subctx_vals = np.concatenate((put_L, cau_L, acc_L, put_R, cau_R, acc_R),axis=1)\n",
    "print(subctx_vals[0,:])"
   ]
  },
  {
   "cell_type": "code",
   "execution_count": 14,
   "metadata": {},
   "outputs": [],
   "source": [
    "#for i in subctx_vals:\n",
    "#    true_vals[i]=100\n",
    "\n",
    "#print(np.unique(true_vals))"
   ]
  },
  {
   "cell_type": "code",
   "execution_count": 15,
   "metadata": {},
   "outputs": [],
   "source": [
    "grads = pd.read_csv('/scratch/dimuthu1/PPMI_project2/derivatives/analysis/plots/group/sbctx_gradients.csv')\n",
    "\n",
    "grad_12 = grads.loc[grads['month'] == 'm12']\n",
    "#print(grad_12)\n",
    "grad_array = grad_12['sbctx_grad_1'].values"
   ]
  },
  {
   "cell_type": "code",
   "execution_count": 16,
   "metadata": {},
   "outputs": [
    {
     "output_type": "execute_result",
     "data": {
      "text/plain": [
       "(3828,)"
      ]
     },
     "metadata": {},
     "execution_count": 16
    }
   ],
   "source": [
    "np.shape(grad_array)"
   ]
  },
  {
   "cell_type": "code",
   "execution_count": 17,
   "metadata": {
    "tags": []
   },
   "outputs": [
    {
     "output_type": "stream",
     "name": "stdout",
     "text": [
      "[  1.           8.          10.         ... 517.24295871 517.46880036\n 524.75609769]\n"
     ]
    }
   ],
   "source": [
    "sbctx_ind = subctx_vals[0,:]\n",
    "for i, val  in enumerate(sbctx_ind):\n",
    "    true_vals[val]=grad_array[i]*100+100\n",
    "    #print(true_vals[val])\n",
    "\n",
    "print(np.unique(true_vals))"
   ]
  },
  {
   "cell_type": "code",
   "execution_count": 18,
   "metadata": {
    "tags": []
   },
   "outputs": [],
   "source": [
    "#print(true_vals)\n",
    "for i, val in enumerate(true_vals):\n",
    "    #print(i)\n",
    "    if i not in sbctx_ind.tolist():\n",
    "        true_vals[i]=-10\n",
    "\n",
    "#print(np.unique(true_vals))"
   ]
  },
  {
   "cell_type": "code",
   "execution_count": 19,
   "metadata": {},
   "outputs": [],
   "source": [
    "#print(np.shape(true_vals))\n",
    "true_vals = true_vals.reshape(1,-1)\n",
    "#print(np.shape(true_vals))\n",
    "\n",
    "new_img = nib.Cifti2Image(true_vals, img.header)\n",
    "\n",
    "nib.save(new_img, 'new_image.dscalar.nii')"
   ]
  },
  {
   "cell_type": "code",
   "execution_count": 27,
   "metadata": {},
   "outputs": [
    {
     "output_type": "stream",
     "name": "stdout",
     "text": [
      "[479 170 124 ... 938 938 862]\n"
     ]
    }
   ],
   "source": [
    "atlas_L = nib.load('/scratch/dimuthu1/PPMI_project2/PPMI_gradients/cfg/L.atlasroi.32k_fs_LR.shape.gii')\n",
    "atlas_L = atlas_L.darrays[0].data\n",
    "atlas_R = nib.load('/scratch/dimuthu1/PPMI_project2/PPMI_gradients/cfg/R.atlasroi.32k_fs_LR.shape.gii')\n",
    "atlas_R = atlas_R.darrays[0].data\n",
    "atlas = np.hstack((atlas_L,atlas_R))\n",
    "\n",
    "schaefer_left = nib.load('/scratch/dimuthu1/PPMI_project2/PPMI_gradients/cfg/schaefer-1000.L.32k_fs_LR.label.gii').darrays[0].data\n",
    "schaefer_right = nib.load('/scratch/dimuthu1/PPMI_project2/PPMI_gradients/cfg/schaefer-1000.R.32k_fs_LR.label.gii').darrays[0].data\n",
    "schaefer_LR = np.hstack((schaefer_left,schaefer_right))\n",
    "labels_LR_no_medialwall = schaefer_LR[atlas==1]\n",
    "print(labels_LR_no_medialwall)"
   ]
  },
  {
   "cell_type": "code",
   "execution_count": 39,
   "metadata": {},
   "outputs": [
    {
     "output_type": "stream",
     "name": "stderr",
     "text": [
      "pixdim[1,2,3] should be non-zero; setting 0 dims to 1\n",
      "[[479. 170. 124. ... 938. 938. 862.]]\n"
     ]
    }
   ],
   "source": [
    "\n",
    "atlas_M = nib.load('/scratch/dimuthu1/PPMI_project2/Human.MedialWall_Conte69.32k_fs_LR.dlabel.nii')\n",
    "med_val = atlas_M.get_data()\n",
    "labels_with_med =np.zeros((med_val.shape))\n",
    "labels_with_med[med_val != 1] = labels_LR_no_medialwall\n",
    "\n",
    "print(labels_with_med)\n"
   ]
  },
  {
   "cell_type": "code",
   "execution_count": null,
   "metadata": {},
   "outputs": [],
   "source": []
  }
 ]
}