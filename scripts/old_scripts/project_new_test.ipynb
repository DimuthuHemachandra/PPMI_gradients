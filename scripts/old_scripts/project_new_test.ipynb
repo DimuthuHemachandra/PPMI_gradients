{
 "metadata": {
  "language_info": {
   "codemirror_mode": {
    "name": "ipython",
    "version": 3
   },
   "file_extension": ".py",
   "mimetype": "text/x-python",
   "name": "python",
   "nbconvert_exporter": "python",
   "pygments_lexer": "ipython3",
   "version": "3.7.0-final"
  },
  "orig_nbformat": 2,
  "kernelspec": {
   "name": "python37064bitpy3virtualenv68f1b03ca46947129374a4882ebdbb52",
   "display_name": "Python 3.7.0 64-bit ('py3': virtualenv)",
   "language": "python"
  }
 },
 "nbformat": 4,
 "nbformat_minor": 2,
 "cells": [
  {
   "cell_type": "code",
   "execution_count": 5,
   "metadata": {},
   "outputs": [],
   "source": [
    "import pandas as pd\n",
    "import os\n",
    "import glob\n",
    "import io \n",
    "import numpy as np\n",
    "import matplotlib.pyplot as plt\n",
    "import nibabel as nib\n",
    "import seaborn as sns\n",
    "from scipy.stats import zscore\n",
    "from brainspace.utils.parcellation import reduce_by_labels, map_to_mask\n",
    "from brainspace.gradient import GradientMaps\n",
    "from brainspace.datasets import load_parcellation\n",
    "from brainspace.plotting import plot_hemispheres\n",
    "from brainspace.utils.parcellation import map_to_labels\n",
    "from sklearn.metrics.pairwise import cosine_similarity\n",
    "import dill\n",
    "\n",
    "emb_dir ='/home/dimuthu1/temporay_scratch/PPMI_project2/derivatives/analysis/gradients/bs_emb'\n",
    "\n",
    "emb_ctx_12 = dill.load(open(emb_dir+\"/emb_ctx_12.pickle\", \"rb\"))\n",
    "emb_ctx_24 = dill.load(open(emb_dir+\"/emb_ctx_24.pickle\", \"rb\"))\n",
    "\n",
    "emb_sbctx_L_12 = dill.load(open(emb_dir+\"/emb_sbctx_L_12.pickle\", \"rb\"))\n",
    "emb_sbctx_L_24 = dill.load(open(emb_dir+\"/emb_sbctx_L_24.pickle\", \"rb\"))\n",
    "\n",
    "emb_sbctx_R_12 = dill.load(open(emb_dir+\"/emb_sbctx_R_12.pickle\", \"rb\"))\n",
    "emb_sbctx_R_24 = dill.load(open(emb_dir+\"/emb_sbctx_R_24.pickle\", \"rb\"))\n",
    "\n",
    "aligned_emb_ctx_R_12 = dill.load(open(emb_dir+\"/aligned_emb_ctx_12.pickle\", \"rb\"))\n",
    "aligned_emb_ctx_R_24 = dill.load(open(emb_dir+\"/aligned_emb_ctx_24.pickle\", \"rb\"))\n",
    "#emb = np.load(emb_dir+\"/emb_ctx_12.pickle\")"
   ]
  },
  {
   "cell_type": "code",
   "execution_count": 6,
   "metadata": {},
   "outputs": [
    {
     "output_type": "stream",
     "name": "stderr",
     "text": [
      "pixdim[1,2,3] should be non-zero; setting 0 dims to 1\n",
      "(1000, 4, 37)\n"
     ]
    },
    {
     "output_type": "error",
     "ename": "NameError",
     "evalue": "name 'n_rois' is not defined",
     "traceback": [
      "\u001b[0;31m---------------------------------------------------------------------------\u001b[0m",
      "\u001b[0;31mNameError\u001b[0m                                 Traceback (most recent call last)",
      "\u001b[0;32m<ipython-input-6-9082ea9ae18c>\u001b[0m in \u001b[0;36m<module>\u001b[0;34m\u001b[0m\n\u001b[1;32m     18\u001b[0m \u001b[0;34m\u001b[0m\u001b[0m\n\u001b[1;32m     19\u001b[0m \u001b[0mnsubjects\u001b[0m \u001b[0;34m=\u001b[0m \u001b[0mlen\u001b[0m\u001b[0;34m(\u001b[0m\u001b[0msubj\u001b[0m\u001b[0;34m)\u001b[0m\u001b[0;34m\u001b[0m\u001b[0m\n\u001b[0;32m---> 20\u001b[0;31m \u001b[0mgrad_aligned\u001b[0m \u001b[0;34m=\u001b[0m \u001b[0mnp\u001b[0m\u001b[0;34m.\u001b[0m\u001b[0mzeros\u001b[0m\u001b[0;34m(\u001b[0m\u001b[0;34m(\u001b[0m\u001b[0mn_rois\u001b[0m\u001b[0;34m,\u001b[0m\u001b[0mngradients\u001b[0m\u001b[0;34m,\u001b[0m\u001b[0mnsubjects\u001b[0m\u001b[0;34m)\u001b[0m\u001b[0;34m)\u001b[0m\u001b[0;34m\u001b[0m\u001b[0m\n\u001b[0m\u001b[1;32m     21\u001b[0m \u001b[0;34m\u001b[0m\u001b[0m\n\u001b[1;32m     22\u001b[0m \u001b[0;34m\u001b[0m\u001b[0m\n",
      "\u001b[0;31mNameError\u001b[0m: name 'n_rois' is not defined"
     ]
    }
   ],
   "source": [
    "gp = aligned_emb_ctx_R_12\n",
    "#n_rois = np.shape(aligned_emb_ctx_R_12.aligned_.T)[1]\n",
    "ngradients = 4\n",
    "labeling = nib.load('../cfg/Schaefer2018_1000Parcels_7Networks_order.dlabel.nii').get_fdata()\n",
    "#print(np.shape(labeling[1]))\n",
    "mask = ~np.isin(labeling[0],0)\n",
    "\n",
    "labeling = labeling.astype(int)\n",
    "\n",
    "print(np.shape(gp))\n",
    "\n",
    "#labeling = np.squeeze(labeling).shape\n",
    "#print(np.shape(labeling))\n",
    "\n",
    "df = pd.read_table('../participants.tsv')\n",
    "subjects = df.participant_id.to_list() \n",
    "subj = [ s.strip('sub-') for s in subjects ]\n",
    "\n",
    "nsubjects = len(subj)\n",
    "grad_aligned = np.zeros((n_rois,ngradients,nsubjects))\n",
    "\n",
    "\n",
    "#for s in range(0,len(subj)):\n",
    "    \n",
    "#    for i, g in enumerate(gp.aligned_.T):\n",
    "#        grad_aligned[:,i,s] = map_to_labels(g, labeling[0],mask=mask, fill=np.nan)"
   ]
  },
  {
   "cell_type": "code",
   "execution_count": 10,
   "metadata": {},
   "outputs": [
    {
     "output_type": "stream",
     "name": "stderr",
     "text": [
      "pixdim[1,2,3] should be non-zero; setting 0 dims to 1\n",
      "[479. 170. 124. ... 938. 938. 862.]\n"
     ]
    }
   ],
   "source": [
    "labels_gii = nib.load('../cfg/Schaefer2018_1000Parcels_7Networks_order.dlabel.nii').get_fdata()\n",
    "\n",
    "print(labels_gii[0])\n",
    "mask = ~np.isin(labels_gii[0],0)"
   ]
  },
  {
   "cell_type": "code",
   "execution_count": 3,
   "metadata": {},
   "outputs": [],
   "source": [
    " def project_to_cortex(emb_ctx,session):\n",
    "    grad = [None] * 4\n",
    "    for i, g in enumerate(emb_ctx.gradients_.T):\n",
    "        grad[i] = map_to_labels(g, labels_gii[0], mask=mask, fill=np.nan)\n",
    "\n",
    "    gii = nib.gifti.GiftiImage()\n",
    "\n",
    "    for g in range(0,len(grad)):\n",
    "        gii.add_gifti_data_array(\n",
    "            nib.gifti.GiftiDataArray(data=grad[g][:32492].astype(np.float32)) # For left hemisphere, right hemisphere change to [32492:]\n",
    "        )\n",
    "    nib.save(gii, emb_dir+'/mean_ctx_L_gradients_'+session+'.func.gii')\n",
    "\n",
    "    for i, g in enumerate(emb_ctx.gradients_.T):\n",
    "        grad[i] = map_to_labels(g, labels_gii[0], mask=mask, fill=np.nan)\n",
    "\n",
    "    gii = nib.gifti.GiftiImage()\n",
    "\n",
    "    for g in range(0,len(grad)):\n",
    "        gii.add_gifti_data_array(\n",
    "            nib.gifti.GiftiDataArray(data=grad[g][32492:].astype(np.float32)) # For left hemisphere, right hemisphere change to [32492:]\n",
    "        )\n",
    "    nib.save(gii, emb_dir+'/mean_ctx_R_gradients_'+session+'.func.gii')"
   ]
  },
  {
   "cell_type": "code",
   "execution_count": 12,
   "metadata": {},
   "outputs": [],
   "source": [
    "project_to_cortex(emb_ctx_12,'month12')\n",
    "project_to_cortex(emb_ctx_24,'month24')"
   ]
  },
  {
   "cell_type": "code",
   "execution_count": 8,
   "metadata": {},
   "outputs": [],
   "source": [
    "def get_grad_df(emb,region):\n",
    "  \n",
    "    grad_1 = emb.gradients_.T[0]\n",
    "    grad_2 = emb.gradients_.T[1]\n",
    "    grad_3 = emb.gradients_.T[2]\n",
    "    #grad_4 = gm.gradients_.T[3]\n",
    "\n",
    "    gradient_df = pd.DataFrame({region+'_grad_1': grad_1, region+'_grad_2': grad_2, region+'_grad_3': grad_3})\n",
    "\n",
    "    return gradient_df"
   ]
  },
  {
   "cell_type": "code",
   "execution_count": 10,
   "metadata": {},
   "outputs": [],
   "source": [
    "df_ctx_12 = get_grad_df(emb_ctx_12,'ctx')\n",
    "df_ctx_24 = get_grad_df(emb_ctx_24,'ctx')\n",
    "\n",
    "\n",
    "df_ctx_12['month'] = 'm12'\n",
    "df_ctx_24['month'] = 'm24'\n",
    "\n",
    "\n",
    "df_ctx_all = df_ctx_12.append(df_ctx_24)\n",
    "\n",
    "#out_path='/home/dimuthu1/scratch/PPMI_project2/derivatives/analysis/plots/group'\n",
    "#sns_plot = sns.pairplot(df_ctx_all,plot_kws={\"s\": 5}, hue=\"month\")\n",
    "#sns_plot.savefig(out_path+\"/mean_ctx_plot.png\")"
   ]
  },
  {
   "cell_type": "code",
   "execution_count": 11,
   "metadata": {},
   "outputs": [
    {
     "output_type": "stream",
     "name": "stdout",
     "text": [
      "      sbctx_grad_1  sbctx_grad_2  sbctx_grad_3\n0         0.016556      0.031366      0.022844\n1         0.004710      0.013974      0.043338\n2         0.012772      0.026546      0.034220\n3         0.004121      0.050533     -0.011156\n4         0.003886      0.021119      0.008442\n...            ...           ...           ...\n1909      0.012031      0.031920      0.050279\n1910      0.012508      0.029778      0.036763\n1911      0.012793      0.045215      0.017584\n1912      0.013427      0.019005      0.032953\n1913      0.013804      0.038569      0.029435\n\n[1914 rows x 3 columns]\n"
     ]
    }
   ],
   "source": [
    "df_sbctx_L_12 = get_grad_df(emb_sbctx_L_12,'sbctx')\n",
    "df_sbctx_L_24 = get_grad_df(emb_sbctx_L_24,'sbctx')\n",
    "\n",
    "print(df_sbctx_L_12)\n",
    "\n",
    "df_sbctx_L_12['month'] = 'm12'\n",
    "df_sbctx_L_24['month'] = 'm24'\n",
    "\n",
    "\n",
    "df_sbctx_L_all = df_sbctx_L_12.append(df_sbctx_L_24)\n",
    "\n",
    "#out_path='/home/dimuthu1/scratch/PPMI_project2/derivatives/analysis/plots/group'\n",
    "#sns_plot = sns.pairplot(df_sbctx_L_all,plot_kws={\"s\": 5}, hue=\"month\")\n",
    "#sns_plot.savefig(out_path+\"/mean_sbctx_L_plot.png\")"
   ]
  },
  {
   "cell_type": "code",
   "execution_count": 12,
   "metadata": {},
   "outputs": [
    {
     "output_type": "stream",
     "name": "stdout",
     "text": [
      "      sbctx_grad_1  sbctx_grad_2  sbctx_grad_3\n0        -0.007216      0.058735      0.030080\n1        -0.005568      0.032597      0.007049\n2        -0.011433      0.058545      0.015575\n3        -0.000776      0.020296      0.001914\n4        -0.015392      0.038999     -0.001922\n...            ...           ...           ...\n1909      0.013471      0.025407      0.015853\n1910      0.009533      0.046488      0.010829\n1911      0.018199      0.037989     -0.006552\n1912      0.006683      0.037929      0.008551\n1913      0.016167      0.034147     -0.011431\n\n[1914 rows x 3 columns]\n"
     ]
    }
   ],
   "source": [
    "df_sbctx_R_12 = get_grad_df(emb_sbctx_R_12,'sbctx')\n",
    "df_sbctx_R_24 = get_grad_df(emb_sbctx_R_24,'sbctx')\n",
    "\n",
    "print(df_sbctx_R_12)\n",
    "\n",
    "df_sbctx_R_12['month'] = 'm12'\n",
    "df_sbctx_R_24['month'] = 'm24'\n",
    "\n",
    "\n",
    "df_sbctx_R_all = df_sbctx_R_12.append(df_sbctx_R_24)\n",
    "\n",
    "#out_path='/home/dimuthu1/scratch/PPMI_project2/derivatives/analysis/plots/group'\n",
    "#sns_plot = sns.pairplot(df_sbctx_R_all,plot_kws={\"s\": 5}, hue=\"month\")\n",
    "#sns_plot.savefig(out_path+\"/mean_sbctx_R_plot.png\")"
   ]
  },
  {
   "cell_type": "code",
   "execution_count": 19,
   "metadata": {},
   "outputs": [],
   "source": [
    "\n",
    "out_path='/home/dimuthu1/scratch/PPMI_project2/derivatives/analysis/plots/group'\n",
    "def get_sbctx_projections(grad_array, grad_no):\n",
    "    atlas = nib.load('/home/dimuthu1/temporay_scratch/PPMI_project2/PPMI_gradients/cfg/91282_Greyordinates.dscalar.nii').get_fdata()\n",
    "    img = nib.load('/home/dimuthu1/temporay_scratch/PPMI_project2/PPMI_gradients/cfg/91282_Greyordinates.dscalar.nii')\n",
    "\n",
    "    true_vals = atlas[0]\n",
    "    put_L = np.where(true_vals==12)\n",
    "    put_R = np.where(true_vals==51)\n",
    "    cau_L = np.where(true_vals==11)\n",
    "    cau_R = np.where(true_vals==50)\n",
    "    acc_L = np.where(true_vals==26)\n",
    "    acc_R = np.where(true_vals==58)\n",
    "\n",
    "    subctx_vals = np.concatenate((put_L, cau_L, acc_L, put_R, cau_R, acc_R),axis=1)\n",
    "    print(subctx_vals[0,:])\n",
    "\n",
    "    sbctx_ind = subctx_vals[0,:]\n",
    "    for i, val  in enumerate(sbctx_ind):\n",
    "        true_vals[val]=grad_array[i]\n",
    "\n",
    "    for i, val in enumerate(true_vals):\n",
    "        #print(i)\n",
    "        if i not in sbctx_ind.tolist():\n",
    "            true_vals[i]=float(\"nan\")\n",
    "\n",
    "    true_vals = true_vals.reshape(1,-1)\n",
    "    #new_img = nib.Cifti2Image(true_vals, img.header)\n",
    "    #nib.save(new_img, out_path+'/sbctx_'+grad_no+'_image.dscalar.nii')\n",
    "\n",
    "    new_img = nib.Nifti1Image(true_vals, img.affine, img.header)\n",
    "    nib.save(new_img, out_path+'/sbctx_'+grad_no+'_test_image.nii')"
   ]
  },
  {
   "cell_type": "code",
   "execution_count": 20,
   "metadata": {},
   "outputs": [
    {
     "output_type": "stream",
     "name": "stdout",
     "text": [
      "[86676 86677 86678 ... 59684 59685 59686]\n"
     ]
    },
    {
     "output_type": "error",
     "ename": "AttributeError",
     "evalue": "'Cifti2Image' object has no attribute 'affine'",
     "traceback": [
      "\u001b[0;31m---------------------------------------------------------------------------\u001b[0m",
      "\u001b[0;31mAttributeError\u001b[0m                            Traceback (most recent call last)",
      "\u001b[0;32m<ipython-input-20-7cd7e95ae7ff>\u001b[0m in \u001b[0;36m<module>\u001b[0;34m\u001b[0m\n\u001b[1;32m      3\u001b[0m \u001b[0mgrad_array_12_2\u001b[0m \u001b[0;34m=\u001b[0m \u001b[0mdf_sbctx_12_all\u001b[0m\u001b[0;34m[\u001b[0m\u001b[0;34m'sbctx_grad_2'\u001b[0m\u001b[0;34m]\u001b[0m\u001b[0;34m.\u001b[0m\u001b[0mvalues\u001b[0m\u001b[0;34m\u001b[0m\u001b[0m\n\u001b[1;32m      4\u001b[0m \u001b[0mgrad_array_12_3\u001b[0m \u001b[0;34m=\u001b[0m \u001b[0mdf_sbctx_12_all\u001b[0m\u001b[0;34m[\u001b[0m\u001b[0;34m'sbctx_grad_3'\u001b[0m\u001b[0;34m]\u001b[0m\u001b[0;34m.\u001b[0m\u001b[0mvalues\u001b[0m\u001b[0;34m\u001b[0m\u001b[0m\n\u001b[0;32m----> 5\u001b[0;31m \u001b[0mget_sbctx_projections\u001b[0m\u001b[0;34m(\u001b[0m\u001b[0mgrad_array_12_1\u001b[0m\u001b[0;34m,\u001b[0m \u001b[0;34m'grad_1'\u001b[0m\u001b[0;34m)\u001b[0m\u001b[0;34m\u001b[0m\u001b[0m\n\u001b[0m\u001b[1;32m      6\u001b[0m \u001b[0mget_sbctx_projections\u001b[0m\u001b[0;34m(\u001b[0m\u001b[0mgrad_array_12_2\u001b[0m\u001b[0;34m,\u001b[0m \u001b[0;34m'grad_2'\u001b[0m\u001b[0;34m)\u001b[0m\u001b[0;34m\u001b[0m\u001b[0m\n\u001b[1;32m      7\u001b[0m \u001b[0mget_sbctx_projections\u001b[0m\u001b[0;34m(\u001b[0m\u001b[0mgrad_array_12_3\u001b[0m\u001b[0;34m,\u001b[0m \u001b[0;34m'grad_3'\u001b[0m\u001b[0;34m)\u001b[0m\u001b[0;34m\u001b[0m\u001b[0m\n",
      "\u001b[0;32m<ipython-input-19-0c941c06c3d8>\u001b[0m in \u001b[0;36mget_sbctx_projections\u001b[0;34m(grad_array, grad_no)\u001b[0m\n\u001b[1;32m     28\u001b[0m     \u001b[0;31m#nib.save(new_img, out_path+'/sbctx_'+grad_no+'_image.dscalar.nii')\u001b[0m\u001b[0;34m\u001b[0m\u001b[0;34m\u001b[0m\u001b[0m\n\u001b[1;32m     29\u001b[0m \u001b[0;34m\u001b[0m\u001b[0m\n\u001b[0;32m---> 30\u001b[0;31m     \u001b[0mnew_img\u001b[0m \u001b[0;34m=\u001b[0m \u001b[0mnib\u001b[0m\u001b[0;34m.\u001b[0m\u001b[0mNifti1Image\u001b[0m\u001b[0;34m(\u001b[0m\u001b[0mtrue_vals\u001b[0m\u001b[0;34m,\u001b[0m \u001b[0mimg\u001b[0m\u001b[0;34m.\u001b[0m\u001b[0maffine\u001b[0m\u001b[0;34m,\u001b[0m \u001b[0mimg\u001b[0m\u001b[0;34m.\u001b[0m\u001b[0mheader\u001b[0m\u001b[0;34m)\u001b[0m\u001b[0;34m\u001b[0m\u001b[0m\n\u001b[0m\u001b[1;32m     31\u001b[0m     \u001b[0mnib\u001b[0m\u001b[0;34m.\u001b[0m\u001b[0msave\u001b[0m\u001b[0;34m(\u001b[0m\u001b[0mnew_img\u001b[0m\u001b[0;34m,\u001b[0m \u001b[0mout_path\u001b[0m\u001b[0;34m+\u001b[0m\u001b[0;34m'/sbctx_'\u001b[0m\u001b[0;34m+\u001b[0m\u001b[0mgrad_no\u001b[0m\u001b[0;34m+\u001b[0m\u001b[0;34m'_test_image.nii'\u001b[0m\u001b[0;34m)\u001b[0m\u001b[0;34m\u001b[0m\u001b[0m\n",
      "\u001b[0;31mAttributeError\u001b[0m: 'Cifti2Image' object has no attribute 'affine'"
     ]
    }
   ],
   "source": [
    "df_sbctx_12_all = df_sbctx_L_12.append(df_sbctx_R_12)\n",
    "grad_array_12_1 = df_sbctx_12_all['sbctx_grad_1'].values\n",
    "grad_array_12_2 = df_sbctx_12_all['sbctx_grad_2'].values\n",
    "grad_array_12_3 = df_sbctx_12_all['sbctx_grad_3'].values\n",
    "get_sbctx_projections(grad_array_12_1, 'grad_1')\n",
    "get_sbctx_projections(grad_array_12_2, 'grad_2')\n",
    "get_sbctx_projections(grad_array_12_3, 'grad_3')"
   ]
  },
  {
   "cell_type": "code",
   "execution_count": 19,
   "metadata": {},
   "outputs": [
    {
     "output_type": "stream",
     "name": "stdout",
     "text": [
      "[86676 86677 86678 ... 59684 59685 59686]\n",
      "[86676 86677 86678 ... 59684 59685 59686]\n",
      "[86676 86677 86678 ... 59684 59685 59686]\n"
     ]
    }
   ],
   "source": [
    "df_sbctx_24_all = df_sbctx_L_24.append(df_sbctx_R_24)\n",
    "\n",
    "grad_array_24_1 = df_sbctx_24_all['sbctx_grad_1'].values\n",
    "grad_array_24_2 = df_sbctx_24_all['sbctx_grad_2'].values\n",
    "grad_array_24_3 = df_sbctx_24_all['sbctx_grad_3'].values\n",
    "\n",
    "get_sbctx_projections(grad_array_24_1, '24_grad_1')\n",
    "\"\"\"get_sbctx_projections(grad_array_24_2, '24_grad_2')\n",
    "get_sbctx_projections(grad_array_24_3, '24_grad_3')\n",
    "\n",
    "diff_1 = grad_array_12_1 - grad_array_24_1\n",
    "diff_2 = grad_array_12_2 - grad_array_24_2\n",
    "diff_3 = grad_array_12_3 - grad_array_24_3\n",
    "\n",
    "get_sbctx_projections(diff_1, 'diff_grad_1')\n",
    "get_sbctx_projections(diff_2, 'diff_grad_2')\n",
    "get_sbctx_projections(diff_3, 'diff_grad_3')\"\"\"\n",
    "\n"
   ]
  },
  {
   "cell_type": "code",
   "execution_count": null,
   "metadata": {},
   "outputs": [],
   "source": []
  }
 ]
}