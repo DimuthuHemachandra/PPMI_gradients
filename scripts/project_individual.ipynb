{
 "metadata": {
  "language_info": {
   "codemirror_mode": {
    "name": "ipython",
    "version": 3
   },
   "file_extension": ".py",
   "mimetype": "text/x-python",
   "name": "python",
   "nbconvert_exporter": "python",
   "pygments_lexer": "ipython3",
   "version": "3.7.0"
  },
  "orig_nbformat": 2,
  "kernelspec": {
   "name": "python370jvsc74a57bd0ae0229ef086929cc13a3a7f58a950b063882d63380b3e652f4a28a00a84a0bec",
   "display_name": "Python 3.7.0 64-bit ('py3': virtualenv)"
  },
  "metadata": {
   "interpreter": {
    "hash": "ae0229ef086929cc13a3a7f58a950b063882d63380b3e652f4a28a00a84a0bec"
   }
  }
 },
 "nbformat": 4,
 "nbformat_minor": 2,
 "cells": [
  {
   "cell_type": "code",
   "execution_count": 14,
   "metadata": {},
   "outputs": [],
   "source": [
    "import pandas as pd\n",
    "import os\n",
    "import glob\n",
    "import io \n",
    "import numpy as np\n",
    "import matplotlib.pyplot as plt\n",
    "import nibabel as nib\n",
    "import seaborn as sns\n",
    "from scipy.stats import zscore\n",
    "from brainspace.utils.parcellation import reduce_by_labels, map_to_mask\n",
    "from brainspace.gradient import GradientMaps\n",
    "from brainspace.datasets import load_parcellation\n",
    "from brainspace.plotting import plot_hemispheres\n",
    "from brainspace.utils.parcellation import map_to_labels\n",
    "from sklearn.metrics.pairwise import cosine_similarity\n",
    "import dill\n",
    "\n",
    "emb_dir ='/home/dimuthu1/scratch/PPMI_project2/derivatives/analysis/smoothed/gradients/bs_emb'\n",
    "\n",
    "aligned_emb_ctx_R_12 = dill.load(open(emb_dir+\"/aligned_emb_ctx_month12.pickle\", \"rb\"))\n",
    "aligned_emb_ctx_R_24 = dill.load(open(emb_dir+\"/aligned_emb_ctx_month24.pickle\", \"rb\"))\n",
    "#emb = np.load(emb_dir+\"/emb_ctx_12.pickle\")"
   ]
  },
  {
   "cell_type": "code",
   "execution_count": 15,
   "metadata": {},
   "outputs": [
    {
     "output_type": "stream",
     "name": "stderr",
     "text": [
      "pixdim[1,2,3] should be non-zero; setting 0 dims to 1\n"
     ]
    }
   ],
   "source": [
    "ngradients = 4\n",
    "labeling = nib.load('../cfg/Schaefer2018_1000Parcels_7Networks_order.dlabel.nii').get_fdata()\n",
    "#print(np.shape(labeling[1]))\n",
    "mask = ~np.isin(labeling[0],0)\n",
    "\n",
    "labeling = labeling.astype(int)\n",
    "\n",
    "#labeling = np.squeeze(labeling).shape\n",
    "#print(np.shape(labeling))\n",
    "\n",
    "df = pd.read_table('../participants.tsv')\n",
    "subjects = df.participant_id.to_list() \n",
    "subj = [ s.strip('sub-') for s in subjects ]\n",
    "\n",
    "nsubjects = len(subj)\n"
   ]
  },
  {
   "cell_type": "code",
   "execution_count": 10,
   "metadata": {},
   "outputs": [],
   "source": [
    " def project_to_cortex(emb_ctx,session,subject):\n",
    "    grad = [None] * 4\n",
    "    for i, g in enumerate(emb_ctx.T):\n",
    "        grad[i] = map_to_labels(g, labeling[0], mask=mask, fill=np.nan)\n",
    "\n",
    "    gii = nib.gifti.GiftiImage()\n",
    "\n",
    "    for g in range(0,len(grad)):\n",
    "        gii.add_gifti_data_array(\n",
    "            nib.gifti.GiftiDataArray(data=grad[g][:32492].astype(np.float32)) # For left hemisphere, right hemisphere change to [32492:]\n",
    "        )\n",
    "    nib.save(gii, emb_dir+'/mean_ctx_L_gradients_'+session+'_'+subject+'.func.gii')\n",
    "\n",
    "    for i, g in enumerate(emb_ctx.T):\n",
    "        grad[i] = map_to_labels(g, labeling[0], mask=mask, fill=np.nan)\n",
    "\n",
    "    gii = nib.gifti.GiftiImage()\n",
    "\n",
    "    for g in range(0,len(grad)):\n",
    "        gii.add_gifti_data_array(\n",
    "            nib.gifti.GiftiDataArray(data=grad[g][32492:].astype(np.float32)) # For left hemisphere, right hemisphere change to [32492:]\n",
    "        )\n",
    "    nib.save(gii, emb_dir+'/mean_ctx_R_gradients_'+session+'_'+subject+'.func.gii')"
   ]
  },
  {
   "cell_type": "code",
   "execution_count": 4,
   "metadata": {},
   "outputs": [],
   "source": [
    "\n",
    "#sliing the 3D matrix with aligned data for all the subjects and projecting the gradients to cortex\n",
    "\n",
    "\n",
    "for i, s in enumerate(subj):\n",
    "    emb_ctx = aligned_emb_ctx_R_12[:,:,i]\n",
    "    project_to_cortex(emb_ctx,\"month12\",s)"
   ]
  },
  {
   "cell_type": "code",
   "execution_count": 19,
   "metadata": {},
   "outputs": [],
   "source": [
    "aligned_emb_sbctx_L_12 = dill.load(open(emb_dir+\"/aligned_emb_sbctx_L_month12.pickle\", \"rb\"))\n",
    "aligned_emb_sbctx_L_24 = dill.load(open(emb_dir+\"/aligned_emb_sbctx_L_month24.pickle\", \"rb\"))\n",
    "\n",
    "aligned_emb_sbctx_R_12 = dill.load(open(emb_dir+\"/aligned_emb_sbctx_R_month12.pickle\", \"rb\"))\n",
    "aligned_emb_sbctx_R_24 = dill.load(open(emb_dir+\"/aligned_emb_sbctx_R_month24.pickle\", \"rb\"))"
   ]
  },
  {
   "cell_type": "code",
   "execution_count": 22,
   "metadata": {},
   "outputs": [],
   "source": [
    "out_path='/home/dimuthu1/scratch/PPMI_project2/derivatives/analysis/smoothed/plots/sbctx_nii'\n",
    "\n",
    "def get_sbctx_projections(grad_array,session, grad_no,subj):\n",
    "    atlas = nib.load('/home/dimuthu1/scratch/PPMI_project2/PPMI_gradients/cfg/91282_Greyordinates.dscalar.nii').get_fdata()\n",
    "    img = nib.load('/home/dimuthu1/scratch/PPMI_project2/PPMI_gradients/cfg/91282_Greyordinates.dscalar.nii')\n",
    "\n",
    "    true_vals = atlas[0]\n",
    "    put_L = np.where(true_vals==12)\n",
    "    put_R = np.where(true_vals==51)\n",
    "    cau_L = np.where(true_vals==11)\n",
    "    cau_R = np.where(true_vals==50)\n",
    "    acc_L = np.where(true_vals==26)\n",
    "    acc_R = np.where(true_vals==58)\n",
    "\n",
    "    #subctx_vals = np.concatenate((put_L, cau_L, acc_L),axis=1)\n",
    "    subctx_vals = np.concatenate((put_R, cau_R, acc_R),axis=1)\n",
    "    print(np.shape(subctx_vals[0,:]))\n",
    "    print(np.shape(grad_array))\n",
    "\n",
    "    sbctx_ind = subctx_vals[0,:]\n",
    "    \"\"\"for i, val  in enumerate(sbctx_ind):\n",
    "        #true_vals[val]= grad_array[i]  #+1000\n",
    "        \n",
    "\n",
    "    for i, val in enumerate(true_vals):\n",
    "        #print(i)\n",
    "        if i not in sbctx_ind.tolist():\n",
    "            true_vals[i]= 0 #float(\"nan\")\n",
    "\n",
    "    true_vals = true_vals.reshape(1,-1)\n",
    "    new_img = nib.Cifti2Image(true_vals, img.header)\n",
    "    nib.save(new_img, out_path+'/'+subj+'-'+session+'_sbctx_L_'+grad_no+'_image.dscalar.nii')\"\"\"\n"
   ]
  },
  {
   "cell_type": "code",
   "execution_count": 23,
   "metadata": {},
   "outputs": [
    {
     "output_type": "stream",
     "name": "stdout",
     "text": [
      "(1905,)\n",
      "(1905,)\n",
      "(1905,)\n",
      "(1905,)\n",
      "(1905,)\n",
      "(1905,)\n",
      "(1905,)\n",
      "(1905,)\n"
     ]
    },
    {
     "output_type": "error",
     "ename": "KeyboardInterrupt",
     "evalue": "",
     "traceback": [
      "\u001b[0;31m---------------------------------------------------------------------------\u001b[0m",
      "\u001b[0;31mKeyboardInterrupt\u001b[0m                         Traceback (most recent call last)",
      "\u001b[0;32m<ipython-input-23-2b74ae9137f9>\u001b[0m in \u001b[0;36m<module>\u001b[0;34m\u001b[0m\n\u001b[1;32m      2\u001b[0m     \u001b[0memb_sbctx_12\u001b[0m \u001b[0;34m=\u001b[0m \u001b[0maligned_emb_sbctx_R_12\u001b[0m\u001b[0;34m[\u001b[0m\u001b[0;34m:\u001b[0m\u001b[0;34m,\u001b[0m\u001b[0;36m2\u001b[0m\u001b[0;34m,\u001b[0m\u001b[0mi\u001b[0m\u001b[0;34m]\u001b[0m \u001b[0;31m#projecting gradient 3\u001b[0m\u001b[0;34m\u001b[0m\u001b[0m\n\u001b[1;32m      3\u001b[0m     \u001b[0;31m#print(np.shape(emb_sbctx_12))\u001b[0m\u001b[0;34m\u001b[0m\u001b[0;34m\u001b[0m\u001b[0m\n\u001b[0;32m----> 4\u001b[0;31m     \u001b[0mget_sbctx_projections\u001b[0m\u001b[0;34m(\u001b[0m\u001b[0memb_sbctx_12\u001b[0m\u001b[0;34m,\u001b[0m\u001b[0;34m'm12'\u001b[0m\u001b[0;34m,\u001b[0m\u001b[0;34m'grad_3'\u001b[0m\u001b[0;34m,\u001b[0m\u001b[0ms\u001b[0m\u001b[0;34m)\u001b[0m\u001b[0;34m\u001b[0m\u001b[0m\n\u001b[0m\u001b[1;32m      5\u001b[0m \u001b[0;34m\u001b[0m\u001b[0m\n\u001b[1;32m      6\u001b[0m     \u001b[0;31m#emb_sbctx_24 = aligned_emb_sbctx_L_24[:,2,i] #projecting gradient 3\u001b[0m\u001b[0;34m\u001b[0m\u001b[0;34m\u001b[0m\u001b[0m\n",
      "\u001b[0;32m<ipython-input-22-b6883d033a46>\u001b[0m in \u001b[0;36mget_sbctx_projections\u001b[0;34m(grad_array, session, grad_no, subj)\u001b[0m\n\u001b[1;32m      2\u001b[0m \u001b[0;34m\u001b[0m\u001b[0m\n\u001b[1;32m      3\u001b[0m \u001b[0;32mdef\u001b[0m \u001b[0mget_sbctx_projections\u001b[0m\u001b[0;34m(\u001b[0m\u001b[0mgrad_array\u001b[0m\u001b[0;34m,\u001b[0m\u001b[0msession\u001b[0m\u001b[0;34m,\u001b[0m \u001b[0mgrad_no\u001b[0m\u001b[0;34m,\u001b[0m\u001b[0msubj\u001b[0m\u001b[0;34m)\u001b[0m\u001b[0;34m:\u001b[0m\u001b[0;34m\u001b[0m\u001b[0m\n\u001b[0;32m----> 4\u001b[0;31m     \u001b[0matlas\u001b[0m \u001b[0;34m=\u001b[0m \u001b[0mnib\u001b[0m\u001b[0;34m.\u001b[0m\u001b[0mload\u001b[0m\u001b[0;34m(\u001b[0m\u001b[0;34m'/home/dimuthu1/scratch/PPMI_project2/PPMI_gradients/cfg/91282_Greyordinates.dscalar.nii'\u001b[0m\u001b[0;34m)\u001b[0m\u001b[0;34m.\u001b[0m\u001b[0mget_fdata\u001b[0m\u001b[0;34m(\u001b[0m\u001b[0;34m)\u001b[0m\u001b[0;34m\u001b[0m\u001b[0m\n\u001b[0m\u001b[1;32m      5\u001b[0m     \u001b[0mimg\u001b[0m \u001b[0;34m=\u001b[0m \u001b[0mnib\u001b[0m\u001b[0;34m.\u001b[0m\u001b[0mload\u001b[0m\u001b[0;34m(\u001b[0m\u001b[0;34m'/home/dimuthu1/scratch/PPMI_project2/PPMI_gradients/cfg/91282_Greyordinates.dscalar.nii'\u001b[0m\u001b[0;34m)\u001b[0m\u001b[0;34m\u001b[0m\u001b[0m\n\u001b[1;32m      6\u001b[0m \u001b[0;34m\u001b[0m\u001b[0m\n",
      "\u001b[0;32m~/py3/lib/python3.7/site-packages/nibabel/loadsave.py\u001b[0m in \u001b[0;36mload\u001b[0;34m(filename, **kwargs)\u001b[0m\n\u001b[1;32m     50\u001b[0m         \u001b[0mis_valid\u001b[0m\u001b[0;34m,\u001b[0m \u001b[0msniff\u001b[0m \u001b[0;34m=\u001b[0m \u001b[0mimage_klass\u001b[0m\u001b[0;34m.\u001b[0m\u001b[0mpath_maybe_image\u001b[0m\u001b[0;34m(\u001b[0m\u001b[0mfilename\u001b[0m\u001b[0;34m,\u001b[0m \u001b[0msniff\u001b[0m\u001b[0;34m)\u001b[0m\u001b[0;34m\u001b[0m\u001b[0m\n\u001b[1;32m     51\u001b[0m         \u001b[0;32mif\u001b[0m \u001b[0mis_valid\u001b[0m\u001b[0;34m:\u001b[0m\u001b[0;34m\u001b[0m\u001b[0m\n\u001b[0;32m---> 52\u001b[0;31m             \u001b[0mimg\u001b[0m \u001b[0;34m=\u001b[0m \u001b[0mimage_klass\u001b[0m\u001b[0;34m.\u001b[0m\u001b[0mfrom_filename\u001b[0m\u001b[0;34m(\u001b[0m\u001b[0mfilename\u001b[0m\u001b[0;34m,\u001b[0m \u001b[0;34m**\u001b[0m\u001b[0mkwargs\u001b[0m\u001b[0;34m)\u001b[0m\u001b[0;34m\u001b[0m\u001b[0m\n\u001b[0m\u001b[1;32m     53\u001b[0m             \u001b[0;32mreturn\u001b[0m \u001b[0mimg\u001b[0m\u001b[0;34m\u001b[0m\u001b[0m\n\u001b[1;32m     54\u001b[0m \u001b[0;34m\u001b[0m\u001b[0m\n",
      "\u001b[0;32m~/py3/lib/python3.7/site-packages/nibabel/dataobj_images.py\u001b[0m in \u001b[0;36mfrom_filename\u001b[0;34m(klass, filename, mmap, keep_file_open)\u001b[0m\n\u001b[1;32m    487\u001b[0m         \u001b[0mfile_map\u001b[0m \u001b[0;34m=\u001b[0m \u001b[0mklass\u001b[0m\u001b[0;34m.\u001b[0m\u001b[0mfilespec_to_file_map\u001b[0m\u001b[0;34m(\u001b[0m\u001b[0mfilename\u001b[0m\u001b[0;34m)\u001b[0m\u001b[0;34m\u001b[0m\u001b[0m\n\u001b[1;32m    488\u001b[0m         return klass.from_file_map(file_map, mmap=mmap,\n\u001b[0;32m--> 489\u001b[0;31m                                    keep_file_open=keep_file_open)\n\u001b[0m\u001b[1;32m    490\u001b[0m \u001b[0;34m\u001b[0m\u001b[0m\n\u001b[1;32m    491\u001b[0m     \u001b[0mload\u001b[0m \u001b[0;34m=\u001b[0m \u001b[0mfrom_filename\u001b[0m\u001b[0;34m\u001b[0m\u001b[0m\n",
      "\u001b[0;32m~/py3/lib/python3.7/site-packages/nibabel/cifti2/cifti2.py\u001b[0m in \u001b[0;36mfrom_file_map\u001b[0;34m(klass, file_map, mmap, keep_file_open)\u001b[0m\n\u001b[1;32m   1403\u001b[0m         \u001b[0;32mfrom\u001b[0m \u001b[0;34m.\u001b[0m\u001b[0mparse_cifti2\u001b[0m \u001b[0;32mimport\u001b[0m \u001b[0m_Cifti2AsNiftiImage\u001b[0m\u001b[0;34m,\u001b[0m \u001b[0mCifti2Extension\u001b[0m\u001b[0;34m\u001b[0m\u001b[0m\n\u001b[1;32m   1404\u001b[0m         nifti_img = _Cifti2AsNiftiImage.from_file_map(file_map, mmap=mmap,\n\u001b[0;32m-> 1405\u001b[0;31m                                                       keep_file_open=keep_file_open)\n\u001b[0m\u001b[1;32m   1406\u001b[0m \u001b[0;34m\u001b[0m\u001b[0m\n\u001b[1;32m   1407\u001b[0m         \u001b[0;31m# Get cifti2 header\u001b[0m\u001b[0;34m\u001b[0m\u001b[0;34m\u001b[0m\u001b[0m\n",
      "\u001b[0;32m~/py3/lib/python3.7/site-packages/nibabel/analyze.py\u001b[0m in \u001b[0;36mfrom_file_map\u001b[0;34m(klass, file_map, mmap, keep_file_open)\u001b[0m\n\u001b[1;32m    971\u001b[0m         \u001b[0mhdr_fh\u001b[0m\u001b[0;34m,\u001b[0m \u001b[0mimg_fh\u001b[0m \u001b[0;34m=\u001b[0m \u001b[0mklass\u001b[0m\u001b[0;34m.\u001b[0m\u001b[0m_get_fileholders\u001b[0m\u001b[0;34m(\u001b[0m\u001b[0mfile_map\u001b[0m\u001b[0;34m)\u001b[0m\u001b[0;34m\u001b[0m\u001b[0m\n\u001b[1;32m    972\u001b[0m         \u001b[0;32mwith\u001b[0m \u001b[0mhdr_fh\u001b[0m\u001b[0;34m.\u001b[0m\u001b[0mget_prepare_fileobj\u001b[0m\u001b[0;34m(\u001b[0m\u001b[0mmode\u001b[0m\u001b[0;34m=\u001b[0m\u001b[0;34m'rb'\u001b[0m\u001b[0;34m)\u001b[0m \u001b[0;32mas\u001b[0m \u001b[0mhdrf\u001b[0m\u001b[0;34m:\u001b[0m\u001b[0;34m\u001b[0m\u001b[0m\n\u001b[0;32m--> 973\u001b[0;31m             \u001b[0mheader\u001b[0m \u001b[0;34m=\u001b[0m \u001b[0mklass\u001b[0m\u001b[0;34m.\u001b[0m\u001b[0mheader_class\u001b[0m\u001b[0;34m.\u001b[0m\u001b[0mfrom_fileobj\u001b[0m\u001b[0;34m(\u001b[0m\u001b[0mhdrf\u001b[0m\u001b[0;34m)\u001b[0m\u001b[0;34m\u001b[0m\u001b[0m\n\u001b[0m\u001b[1;32m    974\u001b[0m         \u001b[0mhdr_copy\u001b[0m \u001b[0;34m=\u001b[0m \u001b[0mheader\u001b[0m\u001b[0;34m.\u001b[0m\u001b[0mcopy\u001b[0m\u001b[0;34m(\u001b[0m\u001b[0;34m)\u001b[0m\u001b[0;34m\u001b[0m\u001b[0m\n\u001b[1;32m    975\u001b[0m         \u001b[0mimgf\u001b[0m \u001b[0;34m=\u001b[0m \u001b[0mimg_fh\u001b[0m\u001b[0;34m.\u001b[0m\u001b[0mfileobj\u001b[0m\u001b[0;34m\u001b[0m\u001b[0m\n",
      "\u001b[0;32m~/py3/lib/python3.7/site-packages/nibabel/nifti1.py\u001b[0m in \u001b[0;36mfrom_fileobj\u001b[0;34m(klass, fileobj, endianness, check)\u001b[0m\n\u001b[1;32m    699\u001b[0m         \u001b[0mbyteswap\u001b[0m \u001b[0;34m=\u001b[0m \u001b[0mendian_codes\u001b[0m\u001b[0;34m[\u001b[0m\u001b[0;34m'native'\u001b[0m\u001b[0;34m]\u001b[0m \u001b[0;34m!=\u001b[0m \u001b[0mhdr\u001b[0m\u001b[0;34m.\u001b[0m\u001b[0mendianness\u001b[0m\u001b[0;34m\u001b[0m\u001b[0m\n\u001b[1;32m    700\u001b[0m         hdr.extensions = klass.exts_klass.from_fileobj(fileobj, extsize,\n\u001b[0;32m--> 701\u001b[0;31m                                                        byteswap)\n\u001b[0m\u001b[1;32m    702\u001b[0m         \u001b[0;32mreturn\u001b[0m \u001b[0mhdr\u001b[0m\u001b[0;34m\u001b[0m\u001b[0m\n\u001b[1;32m    703\u001b[0m \u001b[0;34m\u001b[0m\u001b[0m\n",
      "\u001b[0;32m~/py3/lib/python3.7/site-packages/nibabel/nifti1.py\u001b[0m in \u001b[0;36mfrom_fileobj\u001b[0;34m(klass, fileobj, size, byteswap)\u001b[0m\n\u001b[1;32m    602\u001b[0m             \u001b[0;31m# a particular extension type\u001b[0m\u001b[0;34m\u001b[0m\u001b[0;34m\u001b[0m\u001b[0m\n\u001b[1;32m    603\u001b[0m             \u001b[0;32mtry\u001b[0m\u001b[0;34m:\u001b[0m\u001b[0;34m\u001b[0m\u001b[0m\n\u001b[0;32m--> 604\u001b[0;31m                 \u001b[0mext\u001b[0m \u001b[0;34m=\u001b[0m \u001b[0mextension_codes\u001b[0m\u001b[0;34m.\u001b[0m\u001b[0mhandler\u001b[0m\u001b[0;34m[\u001b[0m\u001b[0mecode\u001b[0m\u001b[0;34m]\u001b[0m\u001b[0;34m(\u001b[0m\u001b[0mecode\u001b[0m\u001b[0;34m,\u001b[0m \u001b[0mevalue\u001b[0m\u001b[0;34m)\u001b[0m\u001b[0;34m\u001b[0m\u001b[0m\n\u001b[0m\u001b[1;32m    605\u001b[0m             \u001b[0;32mexcept\u001b[0m \u001b[0mKeyError\u001b[0m\u001b[0;34m:\u001b[0m\u001b[0;34m\u001b[0m\u001b[0m\n\u001b[1;32m    606\u001b[0m                 \u001b[0;31m# unknown extension type\u001b[0m\u001b[0;34m\u001b[0m\u001b[0;34m\u001b[0m\u001b[0m\n",
      "\u001b[0;32m~/py3/lib/python3.7/site-packages/nibabel/cifti2/parse_cifti2.py\u001b[0m in \u001b[0;36m__init__\u001b[0;34m(self, code, content)\u001b[0m\n\u001b[1;32m     31\u001b[0m \u001b[0;34m\u001b[0m\u001b[0m\n\u001b[1;32m     32\u001b[0m     \u001b[0;32mdef\u001b[0m \u001b[0m__init__\u001b[0m\u001b[0;34m(\u001b[0m\u001b[0mself\u001b[0m\u001b[0;34m,\u001b[0m \u001b[0mcode\u001b[0m\u001b[0;34m=\u001b[0m\u001b[0;32mNone\u001b[0m\u001b[0;34m,\u001b[0m \u001b[0mcontent\u001b[0m\u001b[0;34m=\u001b[0m\u001b[0;32mNone\u001b[0m\u001b[0;34m)\u001b[0m\u001b[0;34m:\u001b[0m\u001b[0;34m\u001b[0m\u001b[0m\n\u001b[0;32m---> 33\u001b[0;31m         \u001b[0mNifti1Extension\u001b[0m\u001b[0;34m.\u001b[0m\u001b[0m__init__\u001b[0m\u001b[0;34m(\u001b[0m\u001b[0mself\u001b[0m\u001b[0;34m,\u001b[0m \u001b[0mcode\u001b[0m\u001b[0;34m=\u001b[0m\u001b[0mcode\u001b[0m \u001b[0;32mor\u001b[0m \u001b[0mself\u001b[0m\u001b[0;34m.\u001b[0m\u001b[0mcode\u001b[0m\u001b[0;34m,\u001b[0m \u001b[0mcontent\u001b[0m\u001b[0;34m=\u001b[0m\u001b[0mcontent\u001b[0m\u001b[0;34m)\u001b[0m\u001b[0;34m\u001b[0m\u001b[0m\n\u001b[0m\u001b[1;32m     34\u001b[0m \u001b[0;34m\u001b[0m\u001b[0m\n\u001b[1;32m     35\u001b[0m     \u001b[0;32mdef\u001b[0m \u001b[0m_unmangle\u001b[0m\u001b[0;34m(\u001b[0m\u001b[0mself\u001b[0m\u001b[0;34m,\u001b[0m \u001b[0mvalue\u001b[0m\u001b[0;34m)\u001b[0m\u001b[0;34m:\u001b[0m\u001b[0;34m\u001b[0m\u001b[0m\n",
      "\u001b[0;32m~/py3/lib/python3.7/site-packages/nibabel/nifti1.py\u001b[0m in \u001b[0;36m__init__\u001b[0;34m(self, code, content)\u001b[0m\n\u001b[1;32m    276\u001b[0m             \u001b[0;31m# XXX or fail or at least complain?\u001b[0m\u001b[0;34m\u001b[0m\u001b[0;34m\u001b[0m\u001b[0m\n\u001b[1;32m    277\u001b[0m             \u001b[0mself\u001b[0m\u001b[0;34m.\u001b[0m\u001b[0m_code\u001b[0m \u001b[0;34m=\u001b[0m \u001b[0mcode\u001b[0m\u001b[0;34m\u001b[0m\u001b[0m\n\u001b[0;32m--> 278\u001b[0;31m         \u001b[0mself\u001b[0m\u001b[0;34m.\u001b[0m\u001b[0m_content\u001b[0m \u001b[0;34m=\u001b[0m \u001b[0mself\u001b[0m\u001b[0;34m.\u001b[0m\u001b[0m_unmangle\u001b[0m\u001b[0;34m(\u001b[0m\u001b[0mcontent\u001b[0m\u001b[0;34m)\u001b[0m\u001b[0;34m\u001b[0m\u001b[0m\n\u001b[0m\u001b[1;32m    279\u001b[0m \u001b[0;34m\u001b[0m\u001b[0m\n\u001b[1;32m    280\u001b[0m     \u001b[0;32mdef\u001b[0m \u001b[0m_unmangle\u001b[0m\u001b[0;34m(\u001b[0m\u001b[0mself\u001b[0m\u001b[0;34m,\u001b[0m \u001b[0mvalue\u001b[0m\u001b[0;34m)\u001b[0m\u001b[0;34m:\u001b[0m\u001b[0;34m\u001b[0m\u001b[0m\n",
      "\u001b[0;32m~/py3/lib/python3.7/site-packages/nibabel/cifti2/parse_cifti2.py\u001b[0m in \u001b[0;36m_unmangle\u001b[0;34m(self, value)\u001b[0m\n\u001b[1;32m     35\u001b[0m     \u001b[0;32mdef\u001b[0m \u001b[0m_unmangle\u001b[0m\u001b[0;34m(\u001b[0m\u001b[0mself\u001b[0m\u001b[0;34m,\u001b[0m \u001b[0mvalue\u001b[0m\u001b[0;34m)\u001b[0m\u001b[0;34m:\u001b[0m\u001b[0;34m\u001b[0m\u001b[0m\n\u001b[1;32m     36\u001b[0m         \u001b[0mparser\u001b[0m \u001b[0;34m=\u001b[0m \u001b[0mCifti2Parser\u001b[0m\u001b[0;34m(\u001b[0m\u001b[0;34m)\u001b[0m\u001b[0;34m\u001b[0m\u001b[0m\n\u001b[0;32m---> 37\u001b[0;31m         \u001b[0mparser\u001b[0m\u001b[0;34m.\u001b[0m\u001b[0mparse\u001b[0m\u001b[0;34m(\u001b[0m\u001b[0mstring\u001b[0m\u001b[0;34m=\u001b[0m\u001b[0mvalue\u001b[0m\u001b[0;34m)\u001b[0m\u001b[0;34m\u001b[0m\u001b[0m\n\u001b[0m\u001b[1;32m     38\u001b[0m         \u001b[0mself\u001b[0m\u001b[0;34m.\u001b[0m\u001b[0m_content\u001b[0m \u001b[0;34m=\u001b[0m \u001b[0mparser\u001b[0m\u001b[0;34m.\u001b[0m\u001b[0mheader\u001b[0m\u001b[0;34m\u001b[0m\u001b[0m\n\u001b[1;32m     39\u001b[0m         \u001b[0;32mreturn\u001b[0m \u001b[0mself\u001b[0m\u001b[0;34m.\u001b[0m\u001b[0m_content\u001b[0m\u001b[0;34m\u001b[0m\u001b[0m\n",
      "\u001b[0;32m~/py3/lib/python3.7/site-packages/nibabel/xmlutils.py\u001b[0m in \u001b[0;36mparse\u001b[0;34m(self, string, fname, fptr)\u001b[0m\n\u001b[1;32m    101\u001b[0m         \u001b[0;32mfor\u001b[0m \u001b[0mname\u001b[0m \u001b[0;32min\u001b[0m \u001b[0mself\u001b[0m\u001b[0;34m.\u001b[0m\u001b[0mHANDLER_NAMES\u001b[0m\u001b[0;34m:\u001b[0m\u001b[0;34m\u001b[0m\u001b[0m\n\u001b[1;32m    102\u001b[0m             \u001b[0msetattr\u001b[0m\u001b[0;34m(\u001b[0m\u001b[0mparser\u001b[0m\u001b[0;34m,\u001b[0m \u001b[0mname\u001b[0m\u001b[0;34m,\u001b[0m \u001b[0mgetattr\u001b[0m\u001b[0;34m(\u001b[0m\u001b[0mself\u001b[0m\u001b[0;34m,\u001b[0m \u001b[0mname\u001b[0m\u001b[0;34m)\u001b[0m\u001b[0;34m)\u001b[0m\u001b[0;34m\u001b[0m\u001b[0m\n\u001b[0;32m--> 103\u001b[0;31m         \u001b[0mparser\u001b[0m\u001b[0;34m.\u001b[0m\u001b[0mParseFile\u001b[0m\u001b[0;34m(\u001b[0m\u001b[0mfptr\u001b[0m\u001b[0;34m)\u001b[0m\u001b[0;34m\u001b[0m\u001b[0m\n\u001b[0m\u001b[1;32m    104\u001b[0m \u001b[0;34m\u001b[0m\u001b[0m\n\u001b[1;32m    105\u001b[0m     \u001b[0;32mdef\u001b[0m \u001b[0mStartElementHandler\u001b[0m\u001b[0;34m(\u001b[0m\u001b[0mself\u001b[0m\u001b[0;34m,\u001b[0m \u001b[0mname\u001b[0m\u001b[0;34m,\u001b[0m \u001b[0mattrs\u001b[0m\u001b[0;34m)\u001b[0m\u001b[0;34m:\u001b[0m\u001b[0;34m\u001b[0m\u001b[0m\n",
      "\u001b[0;32m/dev/shm/ebuser/avx2/Python/3.7.0/dummy-dummy/Python-3.7.0/Modules/pyexpat.c\u001b[0m in \u001b[0;36mEndElement\u001b[0;34m()\u001b[0m\n",
      "\u001b[0;32m~/py3/lib/python3.7/site-packages/nibabel/cifti2/parse_cifti2.py\u001b[0m in \u001b[0;36mEndElementHandler\u001b[0;34m(self, name)\u001b[0m\n\u001b[1;32m    395\u001b[0m \u001b[0;34m\u001b[0m\u001b[0m\n\u001b[1;32m    396\u001b[0m     \u001b[0;32mdef\u001b[0m \u001b[0mEndElementHandler\u001b[0m\u001b[0;34m(\u001b[0m\u001b[0mself\u001b[0m\u001b[0;34m,\u001b[0m \u001b[0mname\u001b[0m\u001b[0;34m)\u001b[0m\u001b[0;34m:\u001b[0m\u001b[0;34m\u001b[0m\u001b[0m\n\u001b[0;32m--> 397\u001b[0;31m         \u001b[0mself\u001b[0m\u001b[0;34m.\u001b[0m\u001b[0mflush_chardata\u001b[0m\u001b[0;34m(\u001b[0m\u001b[0;34m)\u001b[0m\u001b[0;34m\u001b[0m\u001b[0m\n\u001b[0m\u001b[1;32m    398\u001b[0m         \u001b[0;32mif\u001b[0m \u001b[0mself\u001b[0m\u001b[0;34m.\u001b[0m\u001b[0mverbose\u001b[0m \u001b[0;34m>\u001b[0m \u001b[0;36m0\u001b[0m\u001b[0;34m:\u001b[0m\u001b[0;34m\u001b[0m\u001b[0m\n\u001b[1;32m    399\u001b[0m             \u001b[0mprint\u001b[0m\u001b[0;34m(\u001b[0m\u001b[0;34m'End element:\\n\\t'\u001b[0m\u001b[0;34m,\u001b[0m \u001b[0mrepr\u001b[0m\u001b[0;34m(\u001b[0m\u001b[0mname\u001b[0m\u001b[0;34m)\u001b[0m\u001b[0;34m)\u001b[0m\u001b[0;34m\u001b[0m\u001b[0m\n",
      "\u001b[0;32m~/py3/lib/python3.7/site-packages/nibabel/cifti2/parse_cifti2.py\u001b[0m in \u001b[0;36mflush_chardata\u001b[0;34m(self)\u001b[0m\n\u001b[1;32m    532\u001b[0m             \u001b[0mc\u001b[0m \u001b[0;34m=\u001b[0m \u001b[0mBytesIO\u001b[0m\u001b[0;34m(\u001b[0m\u001b[0mdata\u001b[0m\u001b[0;34m.\u001b[0m\u001b[0mstrip\u001b[0m\u001b[0;34m(\u001b[0m\u001b[0;34m)\u001b[0m\u001b[0;34m.\u001b[0m\u001b[0mencode\u001b[0m\u001b[0;34m(\u001b[0m\u001b[0;34m'utf-8'\u001b[0m\u001b[0;34m)\u001b[0m\u001b[0;34m)\u001b[0m\u001b[0;34m\u001b[0m\u001b[0m\n\u001b[1;32m    533\u001b[0m             \u001b[0mindex\u001b[0m \u001b[0;34m=\u001b[0m \u001b[0mself\u001b[0m\u001b[0;34m.\u001b[0m\u001b[0mstruct_state\u001b[0m\u001b[0;34m[\u001b[0m\u001b[0;34m-\u001b[0m\u001b[0;36m1\u001b[0m\u001b[0;34m]\u001b[0m\u001b[0;34m\u001b[0m\u001b[0m\n\u001b[0;32m--> 534\u001b[0;31m             \u001b[0mindex\u001b[0m\u001b[0;34m.\u001b[0m\u001b[0mextend\u001b[0m\u001b[0;34m(\u001b[0m\u001b[0mnp\u001b[0m\u001b[0;34m.\u001b[0m\u001b[0mloadtxt\u001b[0m\u001b[0;34m(\u001b[0m\u001b[0mc\u001b[0m\u001b[0;34m,\u001b[0m \u001b[0mdtype\u001b[0m\u001b[0;34m=\u001b[0m\u001b[0mnp\u001b[0m\u001b[0;34m.\u001b[0m\u001b[0mint\u001b[0m\u001b[0;34m,\u001b[0m \u001b[0mndmin\u001b[0m\u001b[0;34m=\u001b[0m\u001b[0;36m1\u001b[0m\u001b[0;34m)\u001b[0m\u001b[0;34m)\u001b[0m\u001b[0;34m\u001b[0m\u001b[0m\n\u001b[0m\u001b[1;32m    535\u001b[0m             \u001b[0mc\u001b[0m\u001b[0;34m.\u001b[0m\u001b[0mclose\u001b[0m\u001b[0;34m(\u001b[0m\u001b[0;34m)\u001b[0m\u001b[0;34m\u001b[0m\u001b[0m\n\u001b[1;32m    536\u001b[0m \u001b[0;34m\u001b[0m\u001b[0m\n",
      "\u001b[0;32m~/py3/lib/python3.7/_collections_abc.py\u001b[0m in \u001b[0;36mextend\u001b[0;34m(self, values)\u001b[0m\n\u001b[1;32m    988\u001b[0m         \u001b[0;34m'S.extend(iterable) -- extend sequence by appending elements from the iterable'\u001b[0m\u001b[0;34m\u001b[0m\u001b[0m\n\u001b[1;32m    989\u001b[0m         \u001b[0;32mfor\u001b[0m \u001b[0mv\u001b[0m \u001b[0;32min\u001b[0m \u001b[0mvalues\u001b[0m\u001b[0;34m:\u001b[0m\u001b[0;34m\u001b[0m\u001b[0m\n\u001b[0;32m--> 990\u001b[0;31m             \u001b[0mself\u001b[0m\u001b[0;34m.\u001b[0m\u001b[0mappend\u001b[0m\u001b[0;34m(\u001b[0m\u001b[0mv\u001b[0m\u001b[0;34m)\u001b[0m\u001b[0;34m\u001b[0m\u001b[0m\n\u001b[0m\u001b[1;32m    991\u001b[0m \u001b[0;34m\u001b[0m\u001b[0m\n\u001b[1;32m    992\u001b[0m     \u001b[0;32mdef\u001b[0m \u001b[0mpop\u001b[0m\u001b[0;34m(\u001b[0m\u001b[0mself\u001b[0m\u001b[0;34m,\u001b[0m \u001b[0mindex\u001b[0m\u001b[0;34m=\u001b[0m\u001b[0;34m-\u001b[0m\u001b[0;36m1\u001b[0m\u001b[0;34m)\u001b[0m\u001b[0;34m:\u001b[0m\u001b[0;34m\u001b[0m\u001b[0m\n",
      "\u001b[0;32m~/py3/lib/python3.7/_collections_abc.py\u001b[0m in \u001b[0;36mappend\u001b[0;34m(self, value)\u001b[0m\n\u001b[1;32m    969\u001b[0m     \u001b[0;32mdef\u001b[0m \u001b[0mappend\u001b[0m\u001b[0;34m(\u001b[0m\u001b[0mself\u001b[0m\u001b[0;34m,\u001b[0m \u001b[0mvalue\u001b[0m\u001b[0;34m)\u001b[0m\u001b[0;34m:\u001b[0m\u001b[0;34m\u001b[0m\u001b[0m\n\u001b[1;32m    970\u001b[0m         \u001b[0;34m'S.append(value) -- append value to the end of the sequence'\u001b[0m\u001b[0;34m\u001b[0m\u001b[0m\n\u001b[0;32m--> 971\u001b[0;31m         \u001b[0mself\u001b[0m\u001b[0;34m.\u001b[0m\u001b[0minsert\u001b[0m\u001b[0;34m(\u001b[0m\u001b[0mlen\u001b[0m\u001b[0;34m(\u001b[0m\u001b[0mself\u001b[0m\u001b[0;34m)\u001b[0m\u001b[0;34m,\u001b[0m \u001b[0mvalue\u001b[0m\u001b[0;34m)\u001b[0m\u001b[0;34m\u001b[0m\u001b[0m\n\u001b[0m\u001b[1;32m    972\u001b[0m \u001b[0;34m\u001b[0m\u001b[0m\n\u001b[1;32m    973\u001b[0m     \u001b[0;32mdef\u001b[0m \u001b[0mclear\u001b[0m\u001b[0;34m(\u001b[0m\u001b[0mself\u001b[0m\u001b[0;34m)\u001b[0m\u001b[0;34m:\u001b[0m\u001b[0;34m\u001b[0m\u001b[0m\n",
      "\u001b[0;32m~/py3/lib/python3.7/site-packages/nibabel/cifti2/cifti2.py\u001b[0m in \u001b[0;36m__len__\u001b[0;34m(self)\u001b[0m\n\u001b[1;32m    754\u001b[0m             \u001b[0mself\u001b[0m\u001b[0;34m.\u001b[0m\u001b[0mextend\u001b[0m\u001b[0;34m(\u001b[0m\u001b[0mindices\u001b[0m\u001b[0;34m)\u001b[0m\u001b[0;34m\u001b[0m\u001b[0m\n\u001b[1;32m    755\u001b[0m \u001b[0;34m\u001b[0m\u001b[0m\n\u001b[0;32m--> 756\u001b[0;31m     \u001b[0;32mdef\u001b[0m \u001b[0m__len__\u001b[0m\u001b[0;34m(\u001b[0m\u001b[0mself\u001b[0m\u001b[0;34m)\u001b[0m\u001b[0;34m:\u001b[0m\u001b[0;34m\u001b[0m\u001b[0m\n\u001b[0m\u001b[1;32m    757\u001b[0m         \u001b[0;32mreturn\u001b[0m \u001b[0mlen\u001b[0m\u001b[0;34m(\u001b[0m\u001b[0mself\u001b[0m\u001b[0;34m.\u001b[0m\u001b[0m_indices\u001b[0m\u001b[0;34m)\u001b[0m\u001b[0;34m\u001b[0m\u001b[0m\n\u001b[1;32m    758\u001b[0m \u001b[0;34m\u001b[0m\u001b[0m\n",
      "\u001b[0;31mKeyboardInterrupt\u001b[0m: "
     ]
    }
   ],
   "source": [
    "for i, s in enumerate(subj):\n",
    "    emb_sbctx_12 = aligned_emb_sbctx_R_12[:,2,i] #projecting gradient 3\n",
    "    #print(np.shape(emb_sbctx_12))\n",
    "    get_sbctx_projections(emb_sbctx_12,'m12','grad_3',s)\n",
    "\n",
    "    #emb_sbctx_24 = aligned_emb_sbctx_L_24[:,2,i] #projecting gradient 3\n",
    "    #print(np.shape(emb_sbctx_24))\n",
    "    #get_sbctx_projections(emb_sbctx_24,'m24','grad_3',s)"
   ]
  },
  {
   "cell_type": "code",
   "execution_count": 19,
   "metadata": {},
   "outputs": [
    {
     "output_type": "stream",
     "name": "stdout",
     "text": [
      "[87736 87737 87738 ... 59684 59685 59686]\n"
     ]
    }
   ],
   "source": [
    "emb_sbctx_L_12 = dill.load(open(emb_dir+\"/emb_sbctx_L_month12.pickle\", \"rb\"))\n",
    "emb_sbctx_L_24 = dill.load(open(emb_dir+\"/emb_sbctx_L_month24.pickle\", \"rb\"))\n",
    "\n",
    "emb_sbctx_R_12 = dill.load(open(emb_dir+\"/emb_sbctx_R_month12.pickle\", \"rb\"))\n",
    "emb_sbctx_R_24 = dill.load(open(emb_dir+\"/emb_sbctx_R_month24.pickle\", \"rb\"))\n",
    "\n",
    "emb_sbctx_R_12 = emb_sbctx_R_12.gradients_[:,0]  #Mean gradient is passed as an object\n",
    "#print(np.shape(emb_sbctx_R_12.gradients_))\n",
    "get_sbctx_projections(emb_sbctx_R_12,'m12','grad_1','mean')"
   ]
  },
  {
   "cell_type": "code",
   "execution_count": 36,
   "metadata": {},
   "outputs": [
    {
     "output_type": "stream",
     "name": "stdout",
     "text": [
      "(74,)\n"
     ]
    }
   ],
   "source": [
    "#Run cifti_2_nii.sh before running this block\n",
    "\n",
    "from nilearn.image import concat_imgs\n",
    "\n",
    "m12 = []\n",
    "m24 = []\n",
    "\n",
    "for i, s in enumerate(subj):\n",
    "\n",
    "    m12.append(glob.glob(out_path+'/'+s+'-m12_sbctx_R_grad_3_3d.nii')[0])\n",
    "    m24.append(glob.glob(out_path+'/'+s+'-m24_sbctx_R_grad_3_3d.nii')[0])\n",
    "\n",
    "\n",
    "all_nii = m12 + m24\n",
    "print(np.shape(all_nii))\n",
    "\n",
    "image_4D = concat_imgs(all_nii)\n",
    "\n",
    "nib.save(image_4D, out_path+'/concatednated_4D.nii')\n",
    "\n",
    "#result_img = smooth_img(out_path+'/*3d.nii') "
   ]
  },
  {
   "cell_type": "code",
   "execution_count": 6,
   "metadata": {},
   "outputs": [],
   "source": [
    "from nilearn.image import concat_imgs\n",
    "diff_files = []\n",
    "for i, s in enumerate(subj):\n",
    "\n",
    "    diff_files.append(glob.glob(out_path+'/'+s+'_diff.nii.gz')[0])\n",
    "\n",
    "#print(diff_files)\n",
    "\n",
    "image_diff_4D = concat_imgs(diff_files)\n",
    "nib.save(image_diff_4D, out_path+'/concatednated_diff_4D.nii')\n",
    "\n",
    "\n",
    "\n"
   ]
  },
  {
   "cell_type": "code",
   "execution_count": null,
   "metadata": {},
   "outputs": [],
   "source": []
  }
 ]
}